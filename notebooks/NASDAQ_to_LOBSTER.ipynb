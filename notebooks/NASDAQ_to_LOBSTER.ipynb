{
 "cells": [
  {
   "cell_type": "code",
   "execution_count": 1,
   "metadata": {},
   "outputs": [],
   "source": [
    "import os\n",
    "import zipfile\n",
    "import pandas as pd"
   ]
  },
  {
   "cell_type": "code",
   "execution_count": null,
   "metadata": {},
   "outputs": [],
   "source": [
    "# unzip all files\n",
    "root = \"LOB_Data/\"\n",
    "for file in os.listdir(root): \n",
    "    if file.endswith(\".zip\"): \n",
    "        zip_ref = zipfile.ZipFile(root + file)\n",
    "        zip_ref.extractall(root) \n",
    "        zip_ref.close()\n",
    "        os.remove(root + file) "
   ]
  },
  {
   "cell_type": "code",
   "execution_count": 2,
   "metadata": {},
   "outputs": [
    {
     "name": "stdout",
     "output_type": "stream",
     "text": [
      "LOB_Data/S011303-v2.txt to NEW_LOBSTER_IBM/IBM_011303.csv done!\n",
      "LOB_Data/S011403-v2.txt to NEW_LOBSTER_IBM/IBM_011403.csv done!\n",
      "LOB_Data/S011503-v2.txt to NEW_LOBSTER_IBM/IBM_011503.csv done!\n",
      "LOB_Data/S011603-v2.txt to NEW_LOBSTER_IBM/IBM_011603.csv done!\n",
      "LOB_Data/S011703-v2.txt to NEW_LOBSTER_IBM/IBM_011703.csv done!\n",
      "LOB_Data/S012003-v2.txt to NEW_LOBSTER_IBM/IBM_012003.csv done!\n",
      "LOB_Data/S012103-v2.txt to NEW_LOBSTER_IBM/IBM_012103.csv done!\n",
      "LOB_Data/S012203-v2.txt to NEW_LOBSTER_IBM/IBM_012203.csv done!\n",
      "LOB_Data/S012303-v2.txt to NEW_LOBSTER_IBM/IBM_012303.csv done!\n",
      "LOB_Data/S012403-v2.txt to NEW_LOBSTER_IBM/IBM_012403.csv done!\n",
      "LOB_Data/S012703-v2.txt to NEW_LOBSTER_IBM/IBM_012703.csv done!\n",
      "LOB_Data/S012803-v2.txt to NEW_LOBSTER_IBM/IBM_012803.csv done!\n",
      "LOB_Data/S012903-v2.txt to NEW_LOBSTER_IBM/IBM_012903.csv done!\n",
      "LOB_Data/S013003-v2.txt to NEW_LOBSTER_IBM/IBM_013003.csv done!\n",
      "LOB_Data/S013103-v2.txt to NEW_LOBSTER_IBM/IBM_013103.csv done!\n",
      "LOB_Data/S020303-v2.txt to NEW_LOBSTER_IBM/IBM_020303.csv done!\n",
      "LOB_Data/S020403-v2.txt to NEW_LOBSTER_IBM/IBM_020403.csv done!\n",
      "LOB_Data/S020503-v2.txt to NEW_LOBSTER_IBM/IBM_020503.csv done!\n",
      "LOB_Data/S020603-v2.txt to NEW_LOBSTER_IBM/IBM_020603.csv done!\n",
      "LOB_Data/S020703-v2.txt to NEW_LOBSTER_IBM/IBM_020703.csv done!\n"
     ]
    }
   ],
   "source": [
    "# transform all files to LOBSTER format\n",
    "def transform_to_lobster(target, filename, new_root):\n",
    "    data = pd.DataFrame(columns=[\"TIMESTAMP\", \"ORDER_TYPE\", \"ORDER_ID\", \"SIZE\", \"PRICE\", \"BUY_SELL_FLAG\"])\n",
    "    with open(filename) as txt_file:\n",
    "        id_to_info = dict()  # map order_id to [order_price, buy/sell, order_size]\n",
    "        for line in txt_file:\n",
    "            cur = line.split()\n",
    "            if len(cur) < 2:\n",
    "                continue\n",
    "            # add order\n",
    "            if cur[0][-1] == 'A' and cur[2][-len(target):] == target:   \n",
    "                cur_order_id = cur[1][:-1]\n",
    "                cur_price = int(cur[3]) if cur[3][-1].isnumeric() else int(cur[3][:-1])\n",
    "                cur_flag = 1 if cur[1][-1] == 'B' else -1\n",
    "                cur_size = int(cur[2][:-len(target)])\n",
    "                data = data.append({\"TIMESTAMP\" : float(cur[0][:-1]) / 1000, \n",
    "                                    \"ORDER_TYPE\" : 1,\n",
    "                                    \"ORDER_ID\" : cur_order_id, \n",
    "                                    \"SIZE\" : cur_size,\n",
    "                                    \"PRICE\" : cur_price,\n",
    "                                    \"BUY_SELL_FLAG\" : cur_flag }, ignore_index = True)\n",
    "                id_to_info[cur_order_id] = [cur_price, cur_flag, cur_size]    \n",
    "            # cancel order\n",
    "            elif cur[0][-1] == 'X' and cur[1] in id_to_info.keys():     \n",
    "                data = data.append({\"TIMESTAMP\" : float(cur[0][:-1]) / 1000, \n",
    "                                    \"ORDER_TYPE\" : 2,\n",
    "                                    \"ORDER_ID\" : cur[1], \n",
    "                                    \"SIZE\" : int(cur[2]),\n",
    "                                    \"PRICE\" : id_to_info[cur[1]][0],\n",
    "                                    \"BUY_SELL_FLAG\" : id_to_info[cur[1]][1] }, ignore_index = True) \n",
    "            # delete order\n",
    "            elif cur[0][-1] == 'D' and cur[1] in id_to_info.keys():    \n",
    "                data = data.append({\"TIMESTAMP\" : float(cur[0][:-1]) / 1000, \n",
    "                                    \"ORDER_TYPE\" : 3,\n",
    "                                    \"ORDER_ID\" : cur[1], \n",
    "                                    \"SIZE\" : id_to_info[cur[1]][2],\n",
    "                                    \"PRICE\" : id_to_info[cur[1]][0],\n",
    "                                    \"BUY_SELL_FLAG\" : id_to_info[cur[1]][1] }, ignore_index = True)\n",
    "            # execute order\n",
    "            elif cur[0][-1] == 'E' and cur[1] in id_to_info.keys():     \n",
    "                data = data.append({\"TIMESTAMP\" : float(cur[0][:-1]) / 1000, \n",
    "                                    \"ORDER_TYPE\" : 4,\n",
    "                                    \"ORDER_ID\" : cur[1], \n",
    "                                    \"SIZE\" : int(cur[2]),\n",
    "                                    \"PRICE\" : id_to_info[cur[1]][0],\n",
    "                                    \"BUY_SELL_FLAG\" : id_to_info[cur[1]][1] }, ignore_index = True)\n",
    "            # execute hidden limit order\n",
    "            elif cur[0][-1] == 'P' and cur[2][-len(target):] == target:  \n",
    "                cur_order_id = cur[1][:-1]\n",
    "                cur_price = int(cur[3]) if cur[3][-1].isnumeric() else int(cur[3][:-1])\n",
    "                cur_flag = 1 if cur[1][-1] == 'B' else -1\n",
    "                cur_size = int(cur[2][:-len(target)])\n",
    "                data = data.append({\"TIMESTAMP\" : float(cur[0][:-1]) / 1000, \n",
    "                                    \"ORDER_TYPE\" : 5,\n",
    "                                    \"ORDER_ID\" : cur_order_id,    # or is it just 0\n",
    "                                    \"SIZE\" : cur_size,\n",
    "                                    \"PRICE\" : cur_price,\n",
    "                                    \"BUY_SELL_FLAG\" : cur_flag }, ignore_index = True)  \n",
    "        data = data[data[\"TIMESTAMP\"].between(34200, 57600, inclusive=True)]\n",
    "        new_filename = new_root + target + \"_\" + filename[-13:-7] + \".csv\"\n",
    "        data.to_csv(new_filename, header = None, index = False) \n",
    "        print(filename + \" to \" + new_filename + \" done!\")\n",
    "\n",
    "target = \"IBM\"\n",
    "root = \"LOB_Data/\"\n",
    "new_root = \"NEW_LOBSTER_\" + target + \"/\"\n",
    "os.mkdir(new_root)\n",
    "for file in os.listdir(root):\n",
    "    transform_to_lobster(target, root + file, new_root)"
   ]
  }
 ],
 "metadata": {
  "kernelspec": {
   "display_name": "Python 3",
   "language": "python",
   "name": "python3"
  },
  "language_info": {
   "codemirror_mode": {
    "name": "ipython",
    "version": 3
   },
   "file_extension": ".py",
   "mimetype": "text/x-python",
   "name": "python",
   "nbconvert_exporter": "python",
   "pygments_lexer": "ipython3",
   "version": "3.7.6"
  }
 },
 "nbformat": 4,
 "nbformat_minor": 2
}
