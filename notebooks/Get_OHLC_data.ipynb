{
 "cells": [
  {
   "cell_type": "code",
   "execution_count": 1,
   "metadata": {},
   "outputs": [],
   "source": [
    "import numpy as np\n",
    "import os\n",
    "import pandas as pd\n",
    "import yfinance as yf"
   ]
  },
  {
   "cell_type": "code",
   "execution_count": 2,
   "metadata": {},
   "outputs": [
    {
     "name": "stdout",
     "output_type": "stream",
     "text": [
      "[*********************100%***********************]  1 of 1 completed\n"
     ]
    }
   ],
   "source": [
    "data = yf.download(tickers = \"JPM\", start='2020-02-28', end='2020-02-29', interval = \"1m\")"
   ]
  },
  {
   "cell_type": "code",
   "execution_count": 3,
   "metadata": {},
   "outputs": [],
   "source": [
    "data.reset_index(inplace=True)\n",
    "data[\"SYMBOL\"] = \"JPM\"\n",
    "data[\"Datetime\"] = data[\"Datetime\"].apply(lambda x: str(x)[:-6])\n",
    "data = data.rename(columns={\"Datetime\": \"level_1\"})\n",
    "data.set_index([\"SYMBOL\", \"level_1\"], inplace=True)\n",
    "data.loc[:, data.columns[:-1]] = np.round(data.loc[:, data.columns[:-1]], 2)\n",
    "data.drop(columns=[\"Adj Close\"], inplace=True)\n",
    "data.columns = [column.lower() for column in data.columns]\n",
    "data.to_pickle(\"20200228_ohlc_1m.bz2\", compression=\"bz2\")"
   ]
  }
 ],
 "metadata": {
  "kernelspec": {
   "display_name": "Python 3.7.2",
   "language": "python",
   "name": "py37"
  },
  "language_info": {
   "codemirror_mode": {
    "name": "ipython",
    "version": 3
   },
   "file_extension": ".py",
   "mimetype": "text/x-python",
   "name": "python",
   "nbconvert_exporter": "python",
   "pygments_lexer": "ipython3",
   "version": "3.7.6"
  }
 },
 "nbformat": 4,
 "nbformat_minor": 4
}
